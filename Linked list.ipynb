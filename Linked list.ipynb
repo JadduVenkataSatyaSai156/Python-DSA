{
 "cells": [
  {
   "cell_type": "code",
   "execution_count": 2,
   "id": "806eb4f3",
   "metadata": {},
   "outputs": [],
   "source": [
    "# first try\n",
    "class student_info:\n",
    "    def init(name):\n",
    "        self.name = name\n",
    "    def init(roll):\n",
    "        self.roll = roll\n",
    "    def init(marks):\n",
    "        self.marks = marks\n",
    "    def init(none):\n",
    "        self.none = none\n",
    "    def init(self):\n",
    "        if self.head == none:\n",
    "            def add_students(self, name, roll, marks):\n",
    "                name = input()\n",
    "                roll = int(input())\n",
    "                marks = int(input())\n",
    "                return name, roll, marks\n",
    "            name1 = input()\n",
    "            roll1 = int(input())\n",
    "            marks1 = int(input())\n",
    "            self.head = add_students(name1, roll1, marks1)\n",
    "            print(self.head)"
   ]
  },
  {
   "cell_type": "code",
   "execution_count": 6,
   "id": "b53c9d3b",
   "metadata": {},
   "outputs": [
    {
     "name": "stdout",
     "output_type": "stream",
     "text": [
      "Jaddu Venkata Satya Sai\n",
      "24WU0104018\n",
      "30\n",
      "Jaddu Venkata Satya Sai -> 24WU0104018 -> 5 -> None\n"
     ]
    }
   ],
   "source": [
    "# second try\n",
    "class Node:\n",
    "    def __init__(self,data):\n",
    "        self.data=data\n",
    "        self.next=None\n",
    "class LinkedList:\n",
    "    def __init__(self):\n",
    "        self.head=None\n",
    "    def append(self,data):\n",
    "        new_node=Node(data)\n",
    "        if self.head is None:\n",
    "            self.head = new_node\n",
    "            return\n",
    "        last_node = self.head\n",
    "        while last_node.next:\n",
    "            last_node=last_node.next\n",
    "        last_node.next= new_node\n",
    "    def print_list(self):\n",
    "        current_node=self.head\n",
    "        while current_node:\n",
    "            print(current_node.data,end=\" -> \")\n",
    "            current_node=current_node.next\n",
    "        print(\"None\")\n",
    "llist = LinkedList()\n",
    "stu_name = input()\n",
    "stu_roll = input()\n",
    "stu_marks = int(input())\n",
    "stu_gpa = (stu_marks+20)/20\n",
    "if stu_gpa>=2 and stu_gpa<4:\n",
    "    stu_gpa = 5\n",
    "llist.append(stu_name)\n",
    "llist.append(stu_roll)\n",
    "llist.append(stu_gpa)\n",
    "llist.print_list()"
   ]
  }
 ],
 "metadata": {
  "kernelspec": {
   "display_name": "Python 3 (ipykernel)",
   "language": "python",
   "name": "python3"
  },
  "language_info": {
   "codemirror_mode": {
    "name": "ipython",
    "version": 3
   },
   "file_extension": ".py",
   "mimetype": "text/x-python",
   "name": "python",
   "nbconvert_exporter": "python",
   "pygments_lexer": "ipython3",
   "version": "3.9.13"
  }
 },
 "nbformat": 4,
 "nbformat_minor": 5
}
